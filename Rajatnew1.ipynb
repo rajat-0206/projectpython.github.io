{
 "cells": [
  {
   "cell_type": "code",
   "execution_count": 6,
   "metadata": {},
   "outputs": [
    {
     "name": "stdout",
     "output_type": "stream",
     "text": [
      "rajat\n"
     ]
    }
   ],
   "source": [
    "file=open(\"8447234865\",\"wt\")\n",
    "file.write(\"rajat\")\n",
    "file.close()\n",
    "file=open(\"8447234865\",\"rt\")\n",
    "print(file.read())"
   ]
  },
  {
   "cell_type": "code",
   "execution_count": 7,
   "metadata": {},
   "outputs": [],
   "source": [
    "question1={\"option\":{1:\"twice\",2:\"a day\",3:\"brush your\",4:\"teeth\"},\"answer\":\"brush your teeth twice a day \"}\n",
    "question2={\"option\":{1:\"a story\",2:\"narrating\",3:\"tomorrow\",4:\"I will be\"},\"answer\":\"I will be narrating a story tomorrow \"}\n",
    "question3={\"option\":{1:\"pray to\",2:\"we should\",3:\"daily\",4:\"god\"},\"answer\":\"we should pray to god daily \"}\n",
    "question4={\"option\":{1:\"father\",2:\"my\",3:\"me\",4:\"trust\"},\"answer\":\"my father trust me \"}\n",
    "question5={\"option\":{1:\"Delhi\",2:\"fort\",3:\"is in\",4:\"Red\"},\"answer\":\"Red fort is in Delhi \"}\n",
    "question6={\"option\":{1:\"the\",2:\"ball\",3:\"with\",4:\"Rohan\",5:\"is playing\"},\"answer\":\"Rohan is playing with the ball \"}\n",
    "question7={\"option\":{1:\"love\",2:\"of\\nothers\",3:\"good\\nmanners\",4:\"win the\",5:\"and respect\"},\"answer\":\"good manners win the love and respect of others \"}\n",
    "question8={\"option\":{1:\"the\",2:\"the\",3:\"kept\",4:\"rail safe\",5:\"sleeper\"},\"answer\":\"the sleeper kept the rail safe \"}\n",
    "question9={\"option\":{1:\"the\",2:\"jumped\",3:\"the dog\",4:\"pond\",5:\"into\"},\"answer\":\"the dog jumped into the pond \"}\n",
    "question10={\"option\":{1:\"is\",2:\"to school\",3:\"late\",4:\"Rishu\",5:\"always\"},\"answer\":\"Rishu is always late to school \"}\n",
    "question11={\"option\":{1:\"who is\",2:\"strangers\",3:\"respectful\",4:\"a person\",5:\"even\",6:\"like\"},\"answer\":\"even strangers like person who is respectful \"}\n",
    "question12={\"option\":{1:\"saves us\",2:\"turns away\",3:\"a soft answer\",4:\"anger and\",5:\"a pitfall\",6:\"from many\"},\"answer\":\"a soft answer turns away anger and saves us from many a pitfall  \"}\n",
    "question13={\"option\":{1:\"when\",2:\"best\",3:\"good\\nmanners\\ncan\",4:\"one is\",5:\"be learnt\",6:\"young\"},\"answer\":\"good amnners can be learnt best when one is young \"}\n",
    "question14={\"option\":{1:\"deadly\\nweapons\",2:\"of\",3:\"science has\",4:\"warfare\",5:\"given\",6:\"man\"},\"answer\":\"science has given man deadly weapons of warfare \"}\n",
    "question15={\"option\":{1:\"armed\",2:\"which are\",3:\"miracles\",4:\"science has\",5:\"man\\nwith\\ninventions\",6:\"not less than\"},\"answer\":\"science has armed man with inventions which are not less than miracles \"}\n"
   ]
  },
  {
   "cell_type": "code",
   "execution_count": 8,
   "metadata": {},
   "outputs": [],
   "source": [
    "level1=[]\n",
    "level1.insert(0,question1)\n",
    "level1.insert(1,question2)\n",
    "level1.insert(2,question3)\n",
    "level1.insert(3,question4)\n",
    "level1.insert(4,question5)\n",
    "level1.insert(5,question6)\n",
    "level1.insert(6,question7)\n",
    "level1.insert(7,question8)\n",
    "level1.insert(8,question9)\n",
    "level1.insert(9,question10)\n",
    "level1.insert(10,question11)\n",
    "level1.insert(11,question12)\n",
    "level1.insert(12,question13)\n",
    "level1.insert(13,question14)\n",
    "level1.insert(14,question15)"
   ]
  },
  {
   "cell_type": "code",
   "execution_count": 25,
   "metadata": {},
   "outputs": [
    {
     "name": "stderr",
     "output_type": "stream",
     "text": [
      "Exception in Tkinter callback\n",
      "Traceback (most recent call last):\n",
      "  File \"C:\\Users\\pc\\AppData\\Local\\Continuum\\anaconda3\\lib\\tkinter\\__init__.py\", line 1705, in __call__\n",
      "    return self.func(*args)\n",
      "  File \"<ipython-input-25-e925ad89a256>\", line 64, in logout\n",
      "    main()\n",
      "NameError: name 'main' is not defined\n"
     ]
    }
   ],
   "source": [
    "from tkinter import *\n",
    "import tkinter as tk\n",
    "exp=\"\"\n",
    "i=0\n",
    "point=0\n",
    "gameplay=0\n",
    "def game(phno):\n",
    "    forward=phno\n",
    "    global i\n",
    "    global point\n",
    "    global exp\n",
    "    global gameplay\n",
    "    rajat=tk.Tk()\n",
    "    rajat.configure(bg=\"#F1C40F\")\n",
    "    #view profile\n",
    "    def viewprofile():\n",
    "        def hide():\n",
    "            profileframe.destroy()\n",
    "        def edit(i):\n",
    "            getans=Entry(profileframe,width=\"30\")\n",
    "            getans.grid(row=6)\n",
    "            if(i==1):\n",
    "                getans.insert(0,\"Enter new name\")\n",
    "                finalbt=Button(profileframe,text=\"Update\",command=lambda:Name.set(getans.get()))\n",
    "                finalbt.grid(row=7,column=1)\n",
    "            else:\n",
    "                getans.insert(0,\"Enter new Email\")\n",
    "                finalbt=Button(profileframe,text=\"Update\",command=lambda:Emailid.set(getans.get()))\n",
    "                finalbt.grid(row=7,column=1)\n",
    "        profileframe=Frame(rajat,bg=\"#E74C3C\",height=\"50\",width=\"60\")\n",
    "        profileframe.grid(row=6,column=1,rowspan=50,columnspan=\"90\",sticky=\"N\")\n",
    "        Label(profileframe,text=\"Profile\",font=(\"Britannic Bold\",\"18\"),bg=\"#E74C3C\",width=\"50\").grid(row=1,column=0,columnspan=\"4\")\n",
    "        cut=Button(profileframe,text=\"X\",command=hide,font=\"14\",bg=\"#E74C3C\",bd=0,activebackground=\"#E74C3C\",activeforeground=\"White\")\n",
    "        cut.grid(row=1,column=4,sticky=\"E\")\n",
    "        file=open(\"8447234865\",\"rt\")\n",
    "        file.readline()\n",
    "        Label(profileframe,text=\"Phone Number:\",font=(\"Berlin Sans FB\",\"14\"),bg=\"#E74C3C\").grid(row=3,column=1,sticky=\"E\")\n",
    "        no=IntVar()\n",
    "        Entry(profileframe,state=\"disabled\",textvariable=no,font=(\"Berlin Sans FB\",\"14\"),bd=0,disabledbackground=\"#E74C3C\",disabledforeground=\"#17202A\").grid(row=3,column=2,sticky=\"W\")\n",
    "        no.set(\"8447234865\")\n",
    "        Label(profileframe,text=\"Name:\",font=(\"Berlin Sans FB\",\"14\"),bg=\"#E74C3C\").grid(row=4,column=1,sticky=\"E\")\n",
    "        Name=StringVar()\n",
    "        Entry(profileframe,state=\"disabled\",font=(\"Berlin Sans FB\",\"14\"),textvariable=Name,bd=0,disabledbackground=\"#E74C3C\",disabledforeground=\"#17202A\").grid(row=4,column=2,sticky=\"W\")\n",
    "        tempvar1=file.readline()\n",
    "        Name.set(tempvar1)\n",
    "        ed1=Button(profileframe,text=\"edit\",bg=\"#E74C3C\",bd=0,command=lambda:edit(1))\n",
    "        ed1.grid(row=4,column=3,sticky=\"W\")\n",
    "        Label(profileframe,text=\"Email Id:\",font=(\"Berlin Sans FB\",\"14\"),bg=\"#E74C3C\").grid(row=5,column=1,sticky=\"E\")\n",
    "        Emailid=StringVar()\n",
    "        Entry(profileframe,state=\"disabled\",font=(\"Berlin Sans FB\",\"14\"),textvariable=Emailid,bd=0,disabledbackground=\"#E74C3C\",disabledforeground=\"#17202A\").grid(row=5,column=2,sticky=\"W\")\n",
    "        tempvar2=file.readline()\n",
    "        Emailid.set(tempvar2)\n",
    "        ed2=Button(profileframe,text=\"edit\",bg=\"#E74C3C\",bd=0,command=lambda:edit(2))\n",
    "        ed2.grid(row=5,column=3,sticky=\"W\")\n",
    "        file.close()\n",
    "    def logout():\n",
    "        global exp\n",
    "        global point\n",
    "        global i\n",
    "        exp=\"\"\n",
    "        i=0\n",
    "        point=0\n",
    "        rajat.destroy()\n",
    "        main()\n",
    "    setans= StringVar()\n",
    "    ansbox=Entry(rajat,text=\"\",width=\"60\",state=\"disabled\",disabledforeground=\"#17202A\",font=(\"Berlin Sans FB Demi\",\"14\"),bd=0,textvariable=setans)\n",
    "    ansbox.grid(row=5,column=1,columnspan=9,sticky=\"W\",ipady=\"3\",pady=\"4\")\n",
    "    rajat.title(\"Jumble Juggle\")\n",
    "    file=open(phno,\"rt\")\n",
    "    file.readline()\n",
    "    usernam=file.readline()\n",
    "    file.close()\n",
    "    usernam=\"Hello \"+str.capitalize(usernam)\n",
    "    user=Label(rajat,text=usernam,font=(\"Arial\",\"18\"),bg=\"#F1C40F\",fg=\"#3498DB\")\n",
    "    user.grid(row=1,column=4,sticky=\"E\")\n",
    "    mb=  Menubutton (rajat,text=\"▼\",bd=0,bg=\"#F1C40F\",font=(\"Arial\",\"14\"),activebackground=\"#F1C40F\",activeforeground=\"#CB4335\")\n",
    "    mb.grid(row=1,column=5,sticky=\"NW\")\n",
    "    mb.menu =  Menu ( mb, tearoff = 0 )\n",
    "    mb[\"menu\"] =  mb.menu\n",
    "    mb.menu.add_cascade( label=\"View Profile\",font=(\"Impact\",\"14\"),command=viewprofile)\n",
    "    mb.menu.add_cascade( label=\"Logout\",font=(\"Impact\",\"14\"),command=logout)\n",
    "    pointbox=Label(rajat,text=\"Points:\",font=(\"Britannic Bold\",\"18\"),bg=\"#F1C40F\")\n",
    "    pointbox.grid(row=1,column=0,sticky=\"E\")\n",
    "    poin= IntVar()\n",
    "    poin.set(point)\n",
    "    setpoint=Entry(rajat,state=\"disabled\",bd=0,textvariable=poin,font=(\"Britannic Bold\",\"18\"),disabledforeground=\"#17202A\",disabledbackground=\"#F1C40F\")\n",
    "    setpoint.grid(row=1,column=1,sticky=\"W\",ipadx=2,ipady=2,pady=2)\n",
    "    poin.set(point)\n",
    "    def add(got):\n",
    "        global exp\n",
    "        exp=exp+got\n",
    "        exp=exp+\" \"\n",
    "        print(exp)\n",
    "        setans.set(exp)\n",
    "        forward=phno\n",
    "    def check():\n",
    "        global gameplay\n",
    "        global exp\n",
    "        global point\n",
    "        global i\n",
    "        if(exp==level1[i][\"answer\"]):\n",
    "            print(\"true\")\n",
    "            exp=\"\"\n",
    "            setans.set(exp)\n",
    "            point+=5\n",
    "            i+=1\n",
    "            rajat.destroy()\n",
    "            gameplay+=1\n",
    "            game(forward)\n",
    "        else:\n",
    "            exp=\"\"\n",
    "            setans.set(exp)\n",
    "            i+=1\n",
    "            gameplay+=1\n",
    "            rajat.destroy()\n",
    "            game(forward)\n",
    "    def clear():\n",
    "        global exp\n",
    "        exp=\"\"\n",
    "        setans.set(exp)\n",
    "    bt1=Button(rajat,text=level1[i][\"option\"][1],height=\"4\",bg=\"#5DADE2\",fg=\"#CB4335\",font=(\"Berlin Sans FB\",\"14\"),width=\"10\",bd=0,command=lambda: add(level1[i][\"option\"][1]))\n",
    "    bt2=Button(rajat,text=level1[i][\"option\"][2],height=\"4\",bg=\"#5DADE2\",fg=\"#CB4335\",font=(\"Berlin Sans FB\",\"14\"),width=\"10\",bd=0,command=lambda: add(level1[i][\"option\"][2]))\n",
    "    bt3=Button(rajat,text=level1[i][\"option\"][3],height=\"4\",bg=\"#5DADE2\",fg=\"#CB4335\",font=(\"Berlin Sans FB\",\"14\"),width=\"10\",bd=0,command=lambda: add(level1[i][\"option\"][3]))\n",
    "    bt4=Button(rajat,text=level1[i][\"option\"][4],height=\"4\",bg=\"#5DADE2\",fg=\"#CB4335\",font=(\"Berlin Sans FB\",\"14\"),width=\"10\",bd=0,command=lambda: add(level1[i][\"option\"][4]))\n",
    "    bt1.grid(row=3,column=1,padx=1,sticky=\"W\",)\n",
    "    bt2.grid(row=3,column=2,padx=1,sticky=\"W\")\n",
    "    bt3.grid(row=3,column=3,padx=1,sticky=\"W\")\n",
    "    bt4.grid(row=3,column=4,padx=1,sticky=\"W\")\n",
    "    if(i>=5):\n",
    "        bt5=Button(rajat,text=level1[i][\"option\"][5],height=\"4\",bg=\"#5DADE2\",fg=\"#CB4335\",font=(\"Berlin Sans FB\",\"14\"),width=\"10\",bd=0,command=lambda: add(level1[i][\"option\"][5]))\n",
    "        bt5.grid(row=3,column=5,padx=1,sticky=\"W\")\n",
    "    if(i>=10):\n",
    "        bt6=Button(rajat,text=level1[i][\"option\"][6],height=\"4\",bg=\"#5DADE2\",fg=\"#CB4335\",font=(\"Berlin Sans FB\",\"14\"),width=\"10\",bd=0,command=lambda: add(level1[i][\"option\"][6]))\n",
    "        bt6.grid(row=3,column=6,padx=1,sticky=\"W\")\n",
    "    chk=Button(rajat,text=\"Submit\",font=(\"Cooper Black\",\"12\"),command=check,bd=0,height=\"2\",bg=\"#E74C3C\",fg=\"White\")\n",
    "    chk.grid(row=10,column=4,sticky=\"W\",padx=2,ipadx=3,ipady=2)\n",
    "    ans=Label(rajat,text=\"Answer:\",font=(\"Britannic Bold\",\"18\"),bg=\"#F1C40F\")\n",
    "    ans.grid(row=5,column=0,sticky=\"E\")\n",
    "    clr=Button(rajat,text=\"Clear\",font=(\"Cooper Black\",\"12\"),command=clear,bd=0,height=\"2\",bg=\"#E74C3C\",fg=\"White\")\n",
    "    clr.grid(row=10,column=3,sticky=\"W\",padx=2,ipadx=3,ipady=2)\n",
    "    #from here we are making instruction\n",
    "    if(gameplay==0):\n",
    "        def destroy():\n",
    "            cross.configure(font=\"16\")\n",
    "            frame.destroy()\n",
    "        frame=Frame(rajat,bg=\"#2ECC71\")\n",
    "        frame.grid(row=2,column=1,rowspan=\"50\",columnspan=\"90\",sticky=\"N\")\n",
    "        intro=Label(frame,text=\"Instruction\",font=(\"Britannic Bold\",\"18\"),width=\"50\",bg=\"#2ECC71\")\n",
    "        intro.grid(row=1,column=0,rowspan=2)\n",
    "        cross=Button(frame,text=\"X\",command=destroy,bg=\"#2ECC71\",font=\"14\",bd=0,activeforeground=\"White\",activebackground=\"#2ECC71\")\n",
    "        t1=Label(frame,text=\"1. This game contain many boxes which contain different words written on them.\",bg=\"#2ECC71\",height=\"2\",font=(\"Arial Black\",\"14\"))\n",
    "        t1.grid(row=3,sticky=\"W\")\n",
    "        t2=Label(frame,text=\"2. You have to click on boxes in such a way that words when joined\\ntogether form a meaningful sentece.\",bg=\"#2ECC71\",height=\"2\",font=(\"Arial Black\",\"14\"))\n",
    "        t2.grid(row=5,sticky=\"W\")\n",
    "        t3=Label(frame,text=\"3. Click on the submit button when you are sure sentence is meaningful.\",bg=\"#2ECC71\",height=\"2\",font=(\"Arial Black\",\"14\"))\n",
    "        t3.grid(row=7,sticky=\"W\")\n",
    "        t4=Label(frame,text=\"4. If you think you have clicked on wrong box, you can click on\\nclear button to reset your answer.\",bg=\"#2ECC71\",height=\"2\",font=(\"Arial Black\",\"14\"))\n",
    "        t4.grid(row=9,sticky=\"W\")\n",
    "        t5=Label(frame,text=\"5. The game contain three level and 5 question in each level. \",bg=\"#2ECC71\",height=\"2\",font=(\"Arial Black\",\"14\"))\n",
    "        t5.grid(row=11,sticky=\"W\")\n",
    "        t6=Label(frame,text=\"6. You will get 5 points on correct answer and 0 if answer is wrong. \",bg=\"#2ECC71\",height=\"2\",font=(\"Arial Black\",\"14\"))\n",
    "        t6.grid(row=13,sticky=\"W\")\n",
    "        cross.grid(row=1,column=4,ipadx=2,ipady=2)\n",
    "    rajat.mainloop()\n",
    "game(\"8447234865\")"
   ]
  },
  {
   "cell_type": "code",
   "execution_count": 53,
   "metadata": {},
   "outputs": [
    {
     "data": {
      "text/plain": [
       "'a day'"
      ]
     },
     "execution_count": 53,
     "metadata": {},
     "output_type": "execute_result"
    }
   ],
   "source": [
    "level1[0][\"option\"][2]"
   ]
  },
  {
   "cell_type": "code",
   "execution_count": 44,
   "metadata": {},
   "outputs": [],
   "source": [
    "\n",
    "# importing only those functions \n",
    "# which are needed \n",
    "from tkinter import * \n",
    "import tkinter as tk\n",
    "  \n",
    "# creating tkinter window \n",
    "root = tk.Tk() \n",
    "\n",
    "bt=Button(root,text=\"▼\",font=(\"96\"),height=5,width=5)\n",
    "bt.pack()\n",
    "\n",
    "mainloop()"
   ]
  },
  {
   "cell_type": "code",
   "execution_count": 30,
   "metadata": {},
   "outputs": [
    {
     "name": "stdout",
     "output_type": "stream",
     "text": [
      "Object `Button(image)` not found.\n"
     ]
    }
   ],
   "source": []
  },
  {
   "cell_type": "code",
   "execution_count": 114,
   "metadata": {},
   "outputs": [
    {
     "name": "stdout",
     "output_type": "stream",
     "text": [
      "Viewing Profile\n",
      "in function\n"
     ]
    }
   ],
   "source": [
    "from tkinter import *\n",
    "\n",
    "\n",
    "top = Tk()\n",
    "def viewprofile():\n",
    "    print(\"Viewing Profile\")\n",
    "def logout():\n",
    "    print(\"in function\")\n",
    "\n",
    "top.mainloop()"
   ]
  },
  {
   "cell_type": "code",
   "execution_count": 169,
   "metadata": {},
   "outputs": [
    {
     "name": "stdout",
     "output_type": "stream",
     "text": [
      "Rajat\n",
      "\n",
      "rajat123468@gmail.com\n"
     ]
    }
   ],
   "source": [
    "rajat=tk.Tk()\n",
    "def viewprofile():\n",
    "        def hide():\n",
    "            profileframe.destroy()\n",
    "        profileframe=Frame(rajat,bg=\"#E74C3C\",height=\"50\",width=\"60\")\n",
    "        profileframe.grid(row=2,column=1,rowspan=50,columnspan=\"90\",sticky=\"N\")\n",
    "        Label(profileframe,text=\"Profile\",bg=\"#E74C3C\",width=\"50\").grid(row=1,column=0,columnspan=\"4\")\n",
    "        cut=Button(profileframe,text=\"X\",command=hide,bg=\"#E74C3C\",bd=0,highlightcolor=\"Red\")\n",
    "        cut.grid(row=1,column=4,sticky=\"E\")\n",
    "        file=open(\"8447234865\",\"rt\")\n",
    "        file.readline()\n",
    "        Label(profileframe,text=\"Phone Number:\",bg=\"#E74C3C\").grid(row=3,column=1,sticky=\"W\")\n",
    "        no=IntVar()\n",
    "        Entry(profileframe,state=\"disabled\",textvariable=no,justify=\"center\",bd=0,disabledbackground=\"#E74C3C\",disabledforeground=\"#17202A\").grid(row=3,column=2,sticky=\"W\")\n",
    "        no.set(\"8447234865\")\n",
    "        Label(profileframe,text=\"Name:\",bg=\"#E74C3C\").grid(row=4,column=1,sticky=\"W\")\n",
    "        Name=StringVar()\n",
    "        Entry(profileframe,state=\"disabled\",textvariable=Name,justify=\"center\",bd=0,disabledbackground=\"#E74C3C\",disabledforeground=\"#17202A\").grid(row=4,column=2,sticky=\"W\")\n",
    "        tempvar1=file.readline()\n",
    "        Name.set(tempvar1)\n",
    "        Label(profileframe,text=\"Phone Number:\",bg=\"#E74C3C\").grid(row=5,column=1,sticky=\"W\")\n",
    "        Emailid=StringVar()\n",
    "        Entry(profileframe,state=\"disabled\",textvariable=Emailid,justify=\"center\",bd=0,disabledbackground=\"#E74C3C\",disabledforeground=\"#17202A\").grid(row=5,column=2,sticky=\"W\")\n",
    "        tempvar2=file.readline()\n",
    "        Emailid.set(tempvar2)\n",
    "        file.close()\n",
    "    def logout():\n",
    "        global exp\n",
    "        global point\n",
    "        global i\n",
    "        exp=\"\"\n",
    "        i=0\n",
    "        point=0\n",
    "        game.destroy()\n",
    "        main()\n",
    "user=Label(rajat,text=\"Hello Rajat\",bg=\"#F1C40F\",fg=\"#3498DB\")\n",
    "user.grid(row=1,column=4,sticky=\"E\")\n",
    "mb=  Menubutton (rajat, text=\"▼\",bd=0,bg=\"#F1C40F\",activebackground=\"#F1C40F\",activeforeground=\"Blue\")\n",
    "mb.grid(row=1,column=5,sticky=\"W\")\n",
    "mb.menu =  Menu ( mb, tearoff = 0 )\n",
    "mb[\"menu\"] =  mb.menu\n",
    "mb.menu.add_cascade( label=\"View Profile\",command=viewprofile)\n",
    "mb.menu.add_cascade( label=\"Logout\",command=logout)\n",
    "rajat.mainloop()"
   ]
  },
  {
   "cell_type": "code",
   "execution_count": 162,
   "metadata": {},
   "outputs": [
    {
     "name": "stdout",
     "output_type": "stream",
     "text": [
      "Rajat@123\n",
      "Rajat\n",
      "rajat123468@gmail.com\n"
     ]
    }
   ],
   "source": []
  },
  {
   "cell_type": "code",
   "execution_count": 18,
   "metadata": {},
   "outputs": [],
   "source": [
    "?Entry"
   ]
  },
  {
   "cell_type": "code",
   "execution_count": null,
   "metadata": {},
   "outputs": [],
   "source": []
  }
 ],
 "metadata": {
  "kernelspec": {
   "display_name": "Python 3",
   "language": "python",
   "name": "python3"
  },
  "language_info": {
   "codemirror_mode": {
    "name": "ipython",
    "version": 3
   },
   "file_extension": ".py",
   "mimetype": "text/x-python",
   "name": "python",
   "nbconvert_exporter": "python",
   "pygments_lexer": "ipython3",
   "version": "3.7.3"
  }
 },
 "nbformat": 4,
 "nbformat_minor": 2
}
